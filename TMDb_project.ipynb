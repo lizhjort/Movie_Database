{
 "cells": [
  {
   "cell_type": "markdown",
   "metadata": {},
   "source": [
    "# TMDb Data Analysis\n",
    "\n",
    "## Table of Contents\n",
    "<ul>\n",
    "<li><a href=\"#intro\">Introduction</a></li>\n",
    "<li><a href=\"#wrangling\">Data Wrangling</a></li>\n",
    "<li><a href=\"#eda\">Exploratory Data Analysis</a></li>\n",
    "<li><a href=\"#conclusions\">Conclusions</a></li>\n",
    "</ul>"
   ]
  },
  {
   "cell_type": "markdown",
   "metadata": {},
   "source": [
    "<a id='intro'></a>\n",
    "## Introduction\n",
    "\n",
    "The Movie Database provides data on movies from the 1960's through 2015. Some of the information provided in this dataset includes titles, release dates, budgets and revenues (adjusted for inflation), actors, and genres for thousands of movie titles. \n",
    "\n",
    "My goal for this project is to establish a measure for a movie's performance in the boxoffice and use that measure to categorize the movies of the dataset as a flop, a hit, or a megahit. Then, I'll use other information contained in the dataset to determine if there are shared characteristics among the movies in these categories, as compared to the dataset as a whole. "
   ]
  },
  {
   "cell_type": "code",
   "execution_count": 1,
   "metadata": {
    "collapsed": true
   },
   "outputs": [],
   "source": [
    "# Use this cell to set up import statements for all of the packages that you\n",
    "#   plan to use.\n",
    "\n",
    "# Remember to include a 'magic word' so that your visualizations are plotted\n",
    "#   inline with the notebook. See this page for more:\n",
    "#   http://ipython.readthedocs.io/en/stable/interactive/magics.html\n",
    "\n",
    "import csv\n",
    "from datetime import datetime\n",
    "import numpy as np\n",
    "import pandas as pd\n",
    "from IPython.display import display\n",
    "import scipy\n",
    "from scipy import stats\n",
    "import seaborn as sns\n",
    "import matplotlib.pyplot as plt\n",
    "%matplotlib inline"
   ]
  },
  {
   "cell_type": "markdown",
   "metadata": {},
   "source": [
    "<a id='wrangling'></a>\n",
    "## Data Wrangling\n",
    "\n",
    "In the data wrangling phase, the first goal is to load the dataset into a pandas dataframe. Next, I will remove incomplete data and calculate a measure for box office performance (stored in a new column of the dataframe). This dataset stores information of the cast and genres of each movie in the same cell. I will separate the cast members or genres into individual rows for each movie, and store a limited amount of data from the dataset along with the cast or genre information in a new, separate dataset.   \n",
    "\n",
    "### Loading the data"
   ]
  },
  {
   "cell_type": "code",
   "execution_count": 2,
   "metadata": {
    "collapsed": true
   },
   "outputs": [],
   "source": [
    "# Read data from csv file, create a file with partial data to start with (around 100 rows), and print the first few\n",
    "# rows. \n",
    "\n",
    "#file_in  = 'tmdb_movies.csv'\n",
    "#file_out = 'tmdb_movies_partial.csv'\n",
    "\n",
    "#with open(file_out, 'w') as f_out, open(file_in, 'r', encoding = \"ISO-8859-1\") as f_in: \n",
    "#    in_reader = csv.reader(f_in)\n",
    "#    out_writer = csv.writer(f_out)\n",
    "#    while True:\n",
    "#        datarow = next(in_reader)\n",
    "        # Add about 100 rows to the partial data file - end the list at Paul Blart: Mall Cop 2\n",
    "#        if datarow[5] == 'Paul Blart: Mall Cop 2':\n",
    "#            break\n",
    "#        out_writer.writerow(datarow)\n",
    "        \n",
    "#tmdb_movies_partial = pd.read_csv('tmdb_movies_partial.csv')\n",
    "\n",
    "#display(tmdb_movies_partial.head())\n",
    "#print(tmdb_movies_partial.shape)"
   ]
  },
  {
   "cell_type": "code",
   "execution_count": 3,
   "metadata": {
    "collapsed": true
   },
   "outputs": [],
   "source": [
    "#Read the entire csv file into pandas and print the first few rows.\n",
    "\n",
    "tmdb_movies = pd.read_csv('tmdb_movies.csv', encoding = \"ISO-8859-1\")\n",
    "\n",
    "#display(tmdb_movies.head())"
   ]
  },
  {
   "cell_type": "markdown",
   "metadata": {},
   "source": [
    "In the first cell above, I read in the tmdb movies file and wrote a new pandas dataframe with only a small portion of the whole data set. This partial file was used to test ideas and code with a smaller working file. In the second cell, I read the entire dataset into a pandas dataframe. This was the file that was used for the final data analysis, and it is the file that will be used throughout the rest of the notebook."
   ]
  },
  {
   "cell_type": "markdown",
   "metadata": {},
   "source": [
    "### ROI as a measure of box office success\n",
    "\n",
    "The main goal for this project is to determine a way to categorize the box office performance of a movie. To accomplish that, I'll use a very simple calculation of the return on investment (ROI): revenue (adjusted for inflation) / budget (adjusted for inflation)"
   ]
  },
  {
   "cell_type": "code",
   "execution_count": 4,
   "metadata": {},
   "outputs": [
    {
     "name": "stdout",
     "output_type": "stream",
     "text": [
      "(3855, 21)\n"
     ]
    }
   ],
   "source": [
    "#Take out rows with either zero revenues or zero budget\n",
    "\n",
    "#tmdb_movies_partial = tmdb_movies_partial[tmdb_movies_partial.budget != 0]\n",
    "#tmdb_movies_partial = tmdb_movies_partial[tmdb_movies_partial.revenue != 0]\n",
    "tmdb_movies = tmdb_movies[tmdb_movies.budget != 0]\n",
    "tmdb_movies = tmdb_movies[tmdb_movies.revenue != 0]\n",
    "\n",
    "print(tmdb_movies.shape)"
   ]
  },
  {
   "cell_type": "markdown",
   "metadata": {},
   "source": [
    "The dataset has incomplete data regarding budgets and revenues. Many entries are listed at 0 for either the budget or revenue, so those entries were removed in the cell above because the ROI calculation is not possible."
   ]
  },
  {
   "cell_type": "code",
   "execution_count": 5,
   "metadata": {},
   "outputs": [
    {
     "data": {
      "text/html": [
       "<div>\n",
       "<style>\n",
       "    .dataframe thead tr:only-child th {\n",
       "        text-align: right;\n",
       "    }\n",
       "\n",
       "    .dataframe thead th {\n",
       "        text-align: left;\n",
       "    }\n",
       "\n",
       "    .dataframe tbody tr th {\n",
       "        vertical-align: top;\n",
       "    }\n",
       "</style>\n",
       "<table border=\"1\" class=\"dataframe\">\n",
       "  <thead>\n",
       "    <tr style=\"text-align: right;\">\n",
       "      <th></th>\n",
       "      <th>id</th>\n",
       "      <th>imdb_id</th>\n",
       "      <th>popularity</th>\n",
       "      <th>budget</th>\n",
       "      <th>revenue</th>\n",
       "      <th>original_title</th>\n",
       "      <th>cast</th>\n",
       "      <th>homepage</th>\n",
       "      <th>director</th>\n",
       "      <th>tagline</th>\n",
       "      <th>...</th>\n",
       "      <th>runtime</th>\n",
       "      <th>genres</th>\n",
       "      <th>production_companies</th>\n",
       "      <th>release_date</th>\n",
       "      <th>vote_count</th>\n",
       "      <th>vote_average</th>\n",
       "      <th>release_year</th>\n",
       "      <th>budget_adj</th>\n",
       "      <th>revenue_adj</th>\n",
       "      <th>ROI</th>\n",
       "    </tr>\n",
       "  </thead>\n",
       "  <tbody>\n",
       "    <tr>\n",
       "      <th>0</th>\n",
       "      <td>135397</td>\n",
       "      <td>tt0369610</td>\n",
       "      <td>32.985763</td>\n",
       "      <td>150000000</td>\n",
       "      <td>1513528810</td>\n",
       "      <td>Jurassic World</td>\n",
       "      <td>Chris Pratt|Bryce Dallas Howard|Irrfan Khan|Vi...</td>\n",
       "      <td>http://www.jurassicworld.com/</td>\n",
       "      <td>Colin Trevorrow</td>\n",
       "      <td>The park is open.</td>\n",
       "      <td>...</td>\n",
       "      <td>124</td>\n",
       "      <td>Action|Adventure|Science Fiction|Thriller</td>\n",
       "      <td>Universal Studios|Amblin Entertainment|Legenda...</td>\n",
       "      <td>6/9/15</td>\n",
       "      <td>5562</td>\n",
       "      <td>6.5</td>\n",
       "      <td>2015</td>\n",
       "      <td>137999939.3</td>\n",
       "      <td>1.392446e+09</td>\n",
       "      <td>10.090192</td>\n",
       "    </tr>\n",
       "    <tr>\n",
       "      <th>1</th>\n",
       "      <td>76341</td>\n",
       "      <td>tt1392190</td>\n",
       "      <td>28.419936</td>\n",
       "      <td>150000000</td>\n",
       "      <td>378436354</td>\n",
       "      <td>Mad Max: Fury Road</td>\n",
       "      <td>Tom Hardy|Charlize Theron|Hugh Keays-Byrne|Nic...</td>\n",
       "      <td>http://www.madmaxmovie.com/</td>\n",
       "      <td>George Miller</td>\n",
       "      <td>What a Lovely Day.</td>\n",
       "      <td>...</td>\n",
       "      <td>120</td>\n",
       "      <td>Action|Adventure|Science Fiction|Thriller</td>\n",
       "      <td>Village Roadshow Pictures|Kennedy Miller Produ...</td>\n",
       "      <td>5/13/15</td>\n",
       "      <td>6185</td>\n",
       "      <td>7.1</td>\n",
       "      <td>2015</td>\n",
       "      <td>137999939.3</td>\n",
       "      <td>3.481613e+08</td>\n",
       "      <td>2.522909</td>\n",
       "    </tr>\n",
       "    <tr>\n",
       "      <th>2</th>\n",
       "      <td>262500</td>\n",
       "      <td>tt2908446</td>\n",
       "      <td>13.112507</td>\n",
       "      <td>110000000</td>\n",
       "      <td>295238201</td>\n",
       "      <td>Insurgent</td>\n",
       "      <td>Shailene Woodley|Theo James|Kate Winslet|Ansel...</td>\n",
       "      <td>http://www.thedivergentseries.movie/#insurgent</td>\n",
       "      <td>Robert Schwentke</td>\n",
       "      <td>One Choice Can Destroy You</td>\n",
       "      <td>...</td>\n",
       "      <td>119</td>\n",
       "      <td>Adventure|Science Fiction|Thriller</td>\n",
       "      <td>Summit Entertainment|Mandeville Films|Red Wago...</td>\n",
       "      <td>3/18/15</td>\n",
       "      <td>2480</td>\n",
       "      <td>6.3</td>\n",
       "      <td>2015</td>\n",
       "      <td>101199955.5</td>\n",
       "      <td>2.716190e+08</td>\n",
       "      <td>2.683984</td>\n",
       "    </tr>\n",
       "    <tr>\n",
       "      <th>3</th>\n",
       "      <td>140607</td>\n",
       "      <td>tt2488496</td>\n",
       "      <td>11.173104</td>\n",
       "      <td>200000000</td>\n",
       "      <td>2068178225</td>\n",
       "      <td>Star Wars: The Force Awakens</td>\n",
       "      <td>Harrison Ford|Mark Hamill|Carrie Fisher|Adam D...</td>\n",
       "      <td>http://www.starwars.com/films/star-wars-episod...</td>\n",
       "      <td>J.J. Abrams</td>\n",
       "      <td>Every generation has a story.</td>\n",
       "      <td>...</td>\n",
       "      <td>136</td>\n",
       "      <td>Action|Adventure|Science Fiction|Fantasy</td>\n",
       "      <td>Lucasfilm|Truenorth Productions|Bad Robot</td>\n",
       "      <td>12/15/15</td>\n",
       "      <td>5292</td>\n",
       "      <td>7.5</td>\n",
       "      <td>2015</td>\n",
       "      <td>183999919.0</td>\n",
       "      <td>1.902723e+09</td>\n",
       "      <td>10.340891</td>\n",
       "    </tr>\n",
       "    <tr>\n",
       "      <th>4</th>\n",
       "      <td>168259</td>\n",
       "      <td>tt2820852</td>\n",
       "      <td>9.335014</td>\n",
       "      <td>190000000</td>\n",
       "      <td>1506249360</td>\n",
       "      <td>Furious 7</td>\n",
       "      <td>Vin Diesel|Paul Walker|Jason Statham|Michelle ...</td>\n",
       "      <td>http://www.furious7.com/</td>\n",
       "      <td>James Wan</td>\n",
       "      <td>Vengeance Hits Home</td>\n",
       "      <td>...</td>\n",
       "      <td>137</td>\n",
       "      <td>Action|Crime|Thriller</td>\n",
       "      <td>Universal Pictures|Original Film|Media Rights ...</td>\n",
       "      <td>4/1/15</td>\n",
       "      <td>2947</td>\n",
       "      <td>7.3</td>\n",
       "      <td>2015</td>\n",
       "      <td>174799923.1</td>\n",
       "      <td>1.385749e+09</td>\n",
       "      <td>7.927628</td>\n",
       "    </tr>\n",
       "  </tbody>\n",
       "</table>\n",
       "<p>5 rows × 22 columns</p>\n",
       "</div>"
      ],
      "text/plain": [
       "       id    imdb_id  popularity     budget     revenue  \\\n",
       "0  135397  tt0369610   32.985763  150000000  1513528810   \n",
       "1   76341  tt1392190   28.419936  150000000   378436354   \n",
       "2  262500  tt2908446   13.112507  110000000   295238201   \n",
       "3  140607  tt2488496   11.173104  200000000  2068178225   \n",
       "4  168259  tt2820852    9.335014  190000000  1506249360   \n",
       "\n",
       "                 original_title  \\\n",
       "0                Jurassic World   \n",
       "1            Mad Max: Fury Road   \n",
       "2                     Insurgent   \n",
       "3  Star Wars: The Force Awakens   \n",
       "4                     Furious 7   \n",
       "\n",
       "                                                cast  \\\n",
       "0  Chris Pratt|Bryce Dallas Howard|Irrfan Khan|Vi...   \n",
       "1  Tom Hardy|Charlize Theron|Hugh Keays-Byrne|Nic...   \n",
       "2  Shailene Woodley|Theo James|Kate Winslet|Ansel...   \n",
       "3  Harrison Ford|Mark Hamill|Carrie Fisher|Adam D...   \n",
       "4  Vin Diesel|Paul Walker|Jason Statham|Michelle ...   \n",
       "\n",
       "                                            homepage          director  \\\n",
       "0                      http://www.jurassicworld.com/   Colin Trevorrow   \n",
       "1                        http://www.madmaxmovie.com/     George Miller   \n",
       "2     http://www.thedivergentseries.movie/#insurgent  Robert Schwentke   \n",
       "3  http://www.starwars.com/films/star-wars-episod...       J.J. Abrams   \n",
       "4                           http://www.furious7.com/         James Wan   \n",
       "\n",
       "                         tagline    ...     runtime  \\\n",
       "0              The park is open.    ...         124   \n",
       "1             What a Lovely Day.    ...         120   \n",
       "2     One Choice Can Destroy You    ...         119   \n",
       "3  Every generation has a story.    ...         136   \n",
       "4            Vengeance Hits Home    ...         137   \n",
       "\n",
       "                                      genres  \\\n",
       "0  Action|Adventure|Science Fiction|Thriller   \n",
       "1  Action|Adventure|Science Fiction|Thriller   \n",
       "2         Adventure|Science Fiction|Thriller   \n",
       "3   Action|Adventure|Science Fiction|Fantasy   \n",
       "4                      Action|Crime|Thriller   \n",
       "\n",
       "                                production_companies release_date vote_count  \\\n",
       "0  Universal Studios|Amblin Entertainment|Legenda...       6/9/15       5562   \n",
       "1  Village Roadshow Pictures|Kennedy Miller Produ...      5/13/15       6185   \n",
       "2  Summit Entertainment|Mandeville Films|Red Wago...      3/18/15       2480   \n",
       "3          Lucasfilm|Truenorth Productions|Bad Robot     12/15/15       5292   \n",
       "4  Universal Pictures|Original Film|Media Rights ...       4/1/15       2947   \n",
       "\n",
       "  vote_average  release_year   budget_adj   revenue_adj        ROI  \n",
       "0          6.5          2015  137999939.3  1.392446e+09  10.090192  \n",
       "1          7.1          2015  137999939.3  3.481613e+08   2.522909  \n",
       "2          6.3          2015  101199955.5  2.716190e+08   2.683984  \n",
       "3          7.5          2015  183999919.0  1.902723e+09  10.340891  \n",
       "4          7.3          2015  174799923.1  1.385749e+09   7.927628  \n",
       "\n",
       "[5 rows x 22 columns]"
      ]
     },
     "metadata": {},
     "output_type": "display_data"
    }
   ],
   "source": [
    "#Calculate the ROI (return on investment) of each movie - \n",
    "#Revenues adjusted for inflation / Budget adjusted for inflation\n",
    "\n",
    "#tmdb_movies_partial['ROI'] = tmdb_movies_partial['revenue_adj'] / tmdb_movies_partial['budget_adj']\n",
    "tmdb_movies['ROI'] = tmdb_movies['revenue_adj'] / tmdb_movies['budget_adj']\n",
    "display(tmdb_movies.head())\n",
    "\n",
    "    "
   ]
  },
  {
   "cell_type": "markdown",
   "metadata": {},
   "source": [
    "This cell calculates the ROI of each movie and stores it in a new column of the dataframe."
   ]
  },
  {
   "cell_type": "code",
   "execution_count": 6,
   "metadata": {
    "scrolled": true
   },
   "outputs": [
    {
     "name": "stdout",
     "output_type": "stream",
     "text": [
      "(3830, 22)\n"
     ]
    }
   ],
   "source": [
    "#Remove entries with budgets less than $10,000.\n",
    "\n",
    "#tmdb_movies_partial = tmdb_movies_partial[tmdb_movies_partial.budget_adj > 10000]\n",
    "tmdb_movies = tmdb_movies[tmdb_movies.budget_adj > 10000]\n",
    "print(tmdb_movies.shape)"
   ]
  },
  {
   "cell_type": "markdown",
   "metadata": {},
   "source": [
    "There are a handful of entries that seem to have incorrect budget entries - such as those with budgets listed as less than $10,000. This cell removes those entries."
   ]
  },
  {
   "cell_type": "code",
   "execution_count": 7,
   "metadata": {
    "collapsed": true,
    "scrolled": true
   },
   "outputs": [],
   "source": [
    "#Categorize the entries based on ROI.\n",
    "\n",
    "def flop_or_hit(roi):\n",
    "    box_office = ''\n",
    "    if roi < 1:\n",
    "        box_office = 'Flop'\n",
    "    elif 1 <= roi <= 10:\n",
    "        box_office = 'Hit'\n",
    "    else:\n",
    "        box_office = 'Mega-hit'\n",
    "    return box_office\n",
    "\n",
    "#tmdb_movies_partial['box_office'] = tmdb_movies_partial['ROI'].apply(flop_or_hit)\n",
    "tmdb_movies['box_office'] = tmdb_movies['ROI'].apply(flop_or_hit)\n",
    "#display(tmdb_movies.head())"
   ]
  },
  {
   "cell_type": "markdown",
   "metadata": {},
   "source": [
    "This cell adds a category for each film based on its ROI in a new column."
   ]
  },
  {
   "cell_type": "code",
   "execution_count": 8,
   "metadata": {
    "collapsed": true,
    "scrolled": true
   },
   "outputs": [],
   "source": [
    "#Add column for decade\n",
    "\n",
    "def find_decade(year):\n",
    "    decade = ''\n",
    "    if year > 1959 and year <= 1969:\n",
    "        decade = '1960s'\n",
    "    elif year > 1969 and year <= 1979:\n",
    "        decade = '1970s'\n",
    "    elif year > 1979 and year <= 1989:\n",
    "        decade = '1980s'\n",
    "    elif year > 1989 and year <= 1999:\n",
    "        decade = '1990s'\n",
    "    elif year > 1999 and year <= 2009:\n",
    "        decade = '2000s'\n",
    "    else:\n",
    "        decade = '2010s'\n",
    "    return decade\n",
    "\n",
    "#tmdb_movies_partial['decade'] = tmdb_movies_partial['release_year'].apply(find_decade)\n",
    "tmdb_movies['decade'] = tmdb_movies['release_year'].apply(find_decade)\n",
    "#display(tmdb_movies.head())\n"
   ]
  },
  {
   "cell_type": "markdown",
   "metadata": {},
   "source": [
    "This cell identifies the decade of each movie in the dataset and adds it to a new column."
   ]
  },
  {
   "cell_type": "markdown",
   "metadata": {},
   "source": [
    "### Separating cast and genre data\n",
    "\n",
    "In the dataset, the cast, genre, and production company information is held within a single cell. In the data analysis, we might want to utilize this information and having it aggregated within a cell is less useful. In the following cells, I've separated the cast members and the genre types into individual rows and stored the separated data in a new dataframe."
   ]
  },
  {
   "cell_type": "code",
   "execution_count": 9,
   "metadata": {
    "collapsed": true
   },
   "outputs": [],
   "source": [
    "tmdb_movies = tmdb_movies[tmdb_movies['cast'].notnull()]\n",
    "tmdb_movies = tmdb_movies[tmdb_movies['genres'].notnull()]"
   ]
  },
  {
   "cell_type": "code",
   "execution_count": 10,
   "metadata": {},
   "outputs": [
    {
     "data": {
      "text/html": [
       "<div>\n",
       "<style>\n",
       "    .dataframe thead tr:only-child th {\n",
       "        text-align: right;\n",
       "    }\n",
       "\n",
       "    .dataframe thead th {\n",
       "        text-align: left;\n",
       "    }\n",
       "\n",
       "    .dataframe tbody tr th {\n",
       "        vertical-align: top;\n",
       "    }\n",
       "</style>\n",
       "<table border=\"1\" class=\"dataframe\">\n",
       "  <thead>\n",
       "    <tr style=\"text-align: right;\">\n",
       "      <th></th>\n",
       "      <th>id</th>\n",
       "      <th>cast_member</th>\n",
       "      <th>original_title</th>\n",
       "      <th>ROI</th>\n",
       "      <th>box_office</th>\n",
       "    </tr>\n",
       "  </thead>\n",
       "  <tbody>\n",
       "    <tr>\n",
       "      <th>0</th>\n",
       "      <td>135397</td>\n",
       "      <td>Chris Pratt</td>\n",
       "      <td>Jurassic World</td>\n",
       "      <td>10.090192</td>\n",
       "      <td>Mega-hit</td>\n",
       "    </tr>\n",
       "    <tr>\n",
       "      <th>0</th>\n",
       "      <td>135397</td>\n",
       "      <td>Bryce Dallas Howard</td>\n",
       "      <td>Jurassic World</td>\n",
       "      <td>10.090192</td>\n",
       "      <td>Mega-hit</td>\n",
       "    </tr>\n",
       "    <tr>\n",
       "      <th>0</th>\n",
       "      <td>135397</td>\n",
       "      <td>Irrfan Khan</td>\n",
       "      <td>Jurassic World</td>\n",
       "      <td>10.090192</td>\n",
       "      <td>Mega-hit</td>\n",
       "    </tr>\n",
       "    <tr>\n",
       "      <th>0</th>\n",
       "      <td>135397</td>\n",
       "      <td>Vincent D'Onofrio</td>\n",
       "      <td>Jurassic World</td>\n",
       "      <td>10.090192</td>\n",
       "      <td>Mega-hit</td>\n",
       "    </tr>\n",
       "    <tr>\n",
       "      <th>0</th>\n",
       "      <td>135397</td>\n",
       "      <td>Nick Robinson</td>\n",
       "      <td>Jurassic World</td>\n",
       "      <td>10.090192</td>\n",
       "      <td>Mega-hit</td>\n",
       "    </tr>\n",
       "  </tbody>\n",
       "</table>\n",
       "</div>"
      ],
      "text/plain": [
       "       id          cast_member  original_title        ROI box_office\n",
       "0  135397          Chris Pratt  Jurassic World  10.090192   Mega-hit\n",
       "0  135397  Bryce Dallas Howard  Jurassic World  10.090192   Mega-hit\n",
       "0  135397          Irrfan Khan  Jurassic World  10.090192   Mega-hit\n",
       "0  135397    Vincent D'Onofrio  Jurassic World  10.090192   Mega-hit\n",
       "0  135397        Nick Robinson  Jurassic World  10.090192   Mega-hit"
      ]
     },
     "metadata": {},
     "output_type": "display_data"
    }
   ],
   "source": [
    "def cast_split(df):\n",
    "\n",
    "    new_columns = ['id','cast_member','original_title','ROI', 'box_office']\n",
    "    new_cast_df = pd.DataFrame(columns=new_columns)\n",
    "    for index, row in df.iterrows():\n",
    "        cast_list = row['cast'].split('|')\n",
    "        for cast_member in cast_list:\n",
    "            new_row = row[new_columns]\n",
    "            new_row['cast_member'] = cast_member\n",
    "            new_cast_df = new_cast_df.append(new_row)\n",
    "    return new_cast_df\n",
    "\n",
    "tmdb_cast = cast_split(tmdb_movies)\n",
    "display(tmdb_cast.head())"
   ]
  },
  {
   "cell_type": "code",
   "execution_count": 11,
   "metadata": {},
   "outputs": [
    {
     "data": {
      "text/html": [
       "<div>\n",
       "<style>\n",
       "    .dataframe thead tr:only-child th {\n",
       "        text-align: right;\n",
       "    }\n",
       "\n",
       "    .dataframe thead th {\n",
       "        text-align: left;\n",
       "    }\n",
       "\n",
       "    .dataframe tbody tr th {\n",
       "        vertical-align: top;\n",
       "    }\n",
       "</style>\n",
       "<table border=\"1\" class=\"dataframe\">\n",
       "  <thead>\n",
       "    <tr style=\"text-align: right;\">\n",
       "      <th></th>\n",
       "      <th>id</th>\n",
       "      <th>genre_type</th>\n",
       "      <th>original_title</th>\n",
       "      <th>ROI</th>\n",
       "      <th>box_office</th>\n",
       "    </tr>\n",
       "  </thead>\n",
       "  <tbody>\n",
       "    <tr>\n",
       "      <th>0</th>\n",
       "      <td>135397</td>\n",
       "      <td>Action</td>\n",
       "      <td>Jurassic World</td>\n",
       "      <td>10.090192</td>\n",
       "      <td>Mega-hit</td>\n",
       "    </tr>\n",
       "    <tr>\n",
       "      <th>0</th>\n",
       "      <td>135397</td>\n",
       "      <td>Adventure</td>\n",
       "      <td>Jurassic World</td>\n",
       "      <td>10.090192</td>\n",
       "      <td>Mega-hit</td>\n",
       "    </tr>\n",
       "    <tr>\n",
       "      <th>0</th>\n",
       "      <td>135397</td>\n",
       "      <td>Science Fiction</td>\n",
       "      <td>Jurassic World</td>\n",
       "      <td>10.090192</td>\n",
       "      <td>Mega-hit</td>\n",
       "    </tr>\n",
       "    <tr>\n",
       "      <th>0</th>\n",
       "      <td>135397</td>\n",
       "      <td>Thriller</td>\n",
       "      <td>Jurassic World</td>\n",
       "      <td>10.090192</td>\n",
       "      <td>Mega-hit</td>\n",
       "    </tr>\n",
       "    <tr>\n",
       "      <th>1</th>\n",
       "      <td>76341</td>\n",
       "      <td>Action</td>\n",
       "      <td>Mad Max: Fury Road</td>\n",
       "      <td>2.522909</td>\n",
       "      <td>Hit</td>\n",
       "    </tr>\n",
       "  </tbody>\n",
       "</table>\n",
       "</div>"
      ],
      "text/plain": [
       "       id       genre_type      original_title        ROI box_office\n",
       "0  135397           Action      Jurassic World  10.090192   Mega-hit\n",
       "0  135397        Adventure      Jurassic World  10.090192   Mega-hit\n",
       "0  135397  Science Fiction      Jurassic World  10.090192   Mega-hit\n",
       "0  135397         Thriller      Jurassic World  10.090192   Mega-hit\n",
       "1   76341           Action  Mad Max: Fury Road   2.522909        Hit"
      ]
     },
     "metadata": {},
     "output_type": "display_data"
    }
   ],
   "source": [
    "def genre_split(df):\n",
    "    new_columns = ['id','genre_type','original_title','ROI', 'box_office']\n",
    "    new_genre_df = pd.DataFrame(columns=new_columns)\n",
    "    for index, row in df.iterrows():\n",
    "        genre_list = row['genres'].split('|')\n",
    "        for genre_type in genre_list:\n",
    "            new_row = row[new_columns]\n",
    "            new_row['genre_type'] = genre_type\n",
    "            new_genre_df = new_genre_df.append(new_row)\n",
    "    return new_genre_df\n",
    "\n",
    "tmdb_genre = genre_split(tmdb_movies)\n",
    "display(tmdb_genre.head())"
   ]
  },
  {
   "cell_type": "markdown",
   "metadata": {},
   "source": [
    "These cells make new dataframes for the cast and genre data, separating the cast members and genre types into individual rows."
   ]
  },
  {
   "cell_type": "markdown",
   "metadata": {},
   "source": [
    "<a id='eda'></a>\n",
    "## Exploratory Data Analysis\n",
    "\n",
    "### Is there a relationship between a movie's budget and its revenues?\n",
    "\n",
    "The first thing I wanted to determine was whether there was a simple relationship between budget and revenue. If there is an easily discernible relationship between budget and revenue, that information could be used to determine the necessary budget for a film's desired revenue outcome. \n",
    " "
   ]
  },
  {
   "cell_type": "code",
   "execution_count": 12,
   "metadata": {
    "scrolled": true
   },
   "outputs": [
    {
     "name": "stdout",
     "output_type": "stream",
     "text": [
      "r-squared: 0.323820703872\n"
     ]
    },
    {
     "data": {
      "image/png": "[encoded data removed]",
      "text/plain": [
       "<matplotlib.figure.Figure at 0x116472ac8>"
      ]
     },
     "metadata": {},
     "output_type": "display_data"
    }
   ],
   "source": [
    "sns.lmplot('budget_adj', 'revenue_adj', data=tmdb_movies, fit_reg=True)\n",
    "plt.title('Budget vs. Revenues')\n",
    "\n",
    "x = tmdb_movies['budget_adj']\n",
    "y = tmdb_movies['revenue_adj']\n",
    "slope, intercept, r_value, p_value, std_err = stats.linregress(x,y)\n",
    "print(\"r-squared:\", r_value**2)"
   ]
  },
  {
   "cell_type": "markdown",
   "metadata": {},
   "source": [
    "Above is a scatter plot of budget vs revenue (adjusted for inflation). Unfortunately, there is not a clear relationship between budget and revenue. \n",
    "\n",
    "\n",
    "### Using ROI to group the data and make comparisons\n",
    "\n",
    "Therefore, I used the return on investment (ROI) calculation to group the data and make comparisons. First, I defined a flop as a movie with an ROI less than one. These are films that did not break even financially. Second, movies with revenues exceeding 10 times the budget are rare - only ~8% of movies meet this qualification. I've defined these outliers as megahits. Finally, the rest of the films, with a ROI between 1 and 10, are defined as hits. They were profitable, but not outstandingly so."
   ]
  },
  {
   "cell_type": "code",
   "execution_count": 13,
   "metadata": {},
   "outputs": [
    {
     "name": "stdout",
     "output_type": "stream",
     "text": [
      "(1068, 24) (2460, 24) (295, 24) (3827, 24)\n"
     ]
    }
   ],
   "source": [
    "tmdb_movies_minus_outliers = tmdb_movies[tmdb_movies.ROI < 10]\n",
    "tmdb_movies_megahits = tmdb_movies[tmdb_movies.ROI > 10]\n",
    "tmdb_movies_hits = tmdb_movies_minus_outliers[tmdb_movies_minus_outliers.ROI > 1]\n",
    "tmdb_movies_flops = tmdb_movies[tmdb_movies.ROI < 1]\n",
    "\n",
    "print(tmdb_movies_flops.shape, tmdb_movies_hits.shape, \n",
    "      tmdb_movies_megahits.shape, tmdb_movies.shape)\n",
    "\n"
   ]
  },
  {
   "cell_type": "markdown",
   "metadata": {},
   "source": [
    "Flops: 1068/3827 = 28%\n",
    "<br>\n",
    "Hits: 2460/3827 = 64%\n",
    "<br>\n",
    "Megahits: 295/3827 = 8%\n",
    "\n",
    "The majority of the data (92%) is either a flop or a hit, so I chose to visualize that data in a histogram."
   ]
  },
  {
   "cell_type": "code",
   "execution_count": 14,
   "metadata": {
    "scrolled": true
   },
   "outputs": [
    {
     "data": {
      "image/png": "[encoded data removed]",
      "text/plain": [
       "<matplotlib.figure.Figure at 0x116473b70>"
      ]
     },
     "metadata": {},
     "output_type": "display_data"
    }
   ],
   "source": [
    "tmdb_histogram = tmdb_movies_minus_outliers.hist('ROI', bins=10)\n",
    "\n",
    "for ax in tmdb_histogram.flatten():\n",
    "    ax.set_xlabel('ROI')\n",
    "    ax.set_ylabel('Frequency')"
   ]
  },
  {
   "cell_type": "markdown",
   "metadata": {},
   "source": [
    "This histogram of the ROI data shows that the data is skewed right. "
   ]
  },
  {
   "cell_type": "code",
   "execution_count": 15,
   "metadata": {
    "collapsed": true
   },
   "outputs": [],
   "source": [
    "#tmdb_movies.loc[tmdb_movies['decade'] == '1960s'].sort_values('ROI')\n",
    "#tmdb_movies.loc[tmdb_movies['decade'] == '1970s'].sort_values('ROI')\n",
    "#tmdb_movies.loc[tmdb_movies['decade'] == '1980s'].sort_values('ROI')\n",
    "#tmdb_movies.loc[tmdb_movies['decade'] == '1990s'].sort_values('ROI')\n",
    "#tmdb_movies.loc[tmdb_movies['decade'] == '2000s'].sort_values('ROI')\n",
    "#tmdb_movies.loc[tmdb_movies['decade'] == '2010s'].sort_values('ROI')\n"
   ]
  },
  {
   "cell_type": "markdown",
   "metadata": {},
   "source": [
    "Biggest flops by decade:\n",
    "<br>\n",
    "1960's - The Wild Bunch\n",
    "<br>\n",
    "1970's - Zabriske Point\n",
    "<br>\n",
    "1980's - Cherry 2000\n",
    "<br>\n",
    "1990's - The House of Spirits\n",
    "<br>\n",
    "2000's - Shattered Glass\n",
    "<br>\n",
    "2010's - The Samaritan\n",
    "<br>\n",
    "\n",
    "Biggest hits by decade:\n",
    "<br>\n",
    "1960's - Dr. No\n",
    "<br>\n",
    "1970's - Eraserhead\n",
    "<br>\n",
    "1980's - Friday the 13th\n",
    "<br>\n",
    "1990's - The Blair Witch Project\n",
    "<br>\n",
    "2000's - Paranormal Activity\n",
    "<br>\n",
    "2010's - The Gallows\n",
    "\n",
    "I determined the films with the lowest and highest returns on investment for each decade. Interestingly, the biggest hits were almost entirely horror films. This information led me to determine if any genre of film, such as horror films, are more or less likely to be in the megahits category."
   ]
  },
  {
   "cell_type": "code",
   "execution_count": 16,
   "metadata": {
    "collapsed": true
   },
   "outputs": [],
   "source": [
    "tmdb_genre_megahits = genre_split(tmdb_movies_megahits)\n",
    "tmdb_genre_megahits_table = tmdb_genre_megahits.groupby(by='genre_type')['ROI'].describe().sort_values('count')\n",
    "tmdb_genre_megahits_table['megahits percentage'] = (tmdb_genre_megahits_table['count']/295)*100\n"
   ]
  },
  {
   "cell_type": "code",
   "execution_count": 17,
   "metadata": {
    "collapsed": true
   },
   "outputs": [],
   "source": [
    "tmdb_genre_hits = genre_split(tmdb_movies_hits) \n",
    "tmdb_genre_hits_table = tmdb_genre_hits.groupby(by='genre_type')['ROI'].describe().sort_values('count')\n",
    "tmdb_genre_hits_table['hits percentage'] = (tmdb_genre_hits_table['count']/2460)*100\n"
   ]
  },
  {
   "cell_type": "code",
   "execution_count": 18,
   "metadata": {
    "collapsed": true,
    "scrolled": true
   },
   "outputs": [],
   "source": [
    "tmdb_genre_flops = genre_split(tmdb_movies_flops)\n",
    "tmdb_genre_flops_table = tmdb_genre_flops.groupby(by='genre_type')['ROI'].describe().sort_values('count')\n",
    "tmdb_genre_flops_table['flops percentage'] = (tmdb_genre_flops_table['count']/1068)*100\n"
   ]
  },
  {
   "cell_type": "code",
   "execution_count": 19,
   "metadata": {
    "collapsed": true
   },
   "outputs": [],
   "source": [
    "tmdb_genre.groupby(by='genre_type')['ROI'].describe().sort_values('mean')\n",
    "tmdb_genre_table = tmdb_genre.groupby(by='genre_type')['ROI'].describe().sort_values('count')\n",
    "tmdb_genre_table['overall percentage'] = (tmdb_genre_table['count']/3827)*100\n"
   ]
  },
  {
   "cell_type": "code",
   "execution_count": 20,
   "metadata": {},
   "outputs": [
    {
     "data": {
      "text/plain": [
       "<matplotlib.text.Text at 0x114efab00>"
      ]
     },
     "execution_count": 20,
     "metadata": {},
     "output_type": "execute_result"
    },
    {
     "data": {
      "image/png": "[encoded data removed]",
      "text/plain": [
       "<matplotlib.figure.Figure at 0x114ef1710>"
      ]
     },
     "metadata": {},
     "output_type": "display_data"
    }
   ],
   "source": [
    "genre_percentages = pd.concat([tmdb_genre_table['overall percentage'], tmdb_genre_flops_table['flops percentage'], \n",
    "          tmdb_genre_hits_table['hits percentage'], tmdb_genre_megahits_table['megahits percentage']], axis=1)\n",
    "\n",
    "genre_percentages_graph = genre_percentages.plot.bar(title='Percentage of films that fit genre description')\n",
    "genre_percentages_graph.set_xlabel('Genre')\n",
    "genre_percentages_graph.set_ylabel('Percentage')\n"
   ]
  },
  {
   "cell_type": "markdown",
   "metadata": {},
   "source": [
    "In the cells above, the data in each box office category (flops, hits, or megahits) was grouped based on the type of genre that could be used to describe the film. Then a percentage of films that could be described in each genre was determined: number of films of genre / total number of films in the category. Note: the percentages add up to greater than 100% because any individual film can be described by more than one genre type. \n",
    "\n",
    "The graph above shows the comparison of percentages of movies that can be described by each genre type, in each category and overall. Romance films, for example, have very similar percentages across all categories. As noted above, horror films seem to be overrepresented in the megahits category - a higher percentage of films in the megahits category can be described as horror movies. Dramas appear to be somewhat overrepresented in the flops category, although across all categories, drama is the most common descriptor.\n",
    "\n"
   ]
  },
  {
   "cell_type": "code",
   "execution_count": 26,
   "metadata": {},
   "outputs": [
    {
     "data": {
      "image/png": "[encoded data removed]",
      "text/plain": [
       "<matplotlib.figure.Figure at 0x118b359b0>"
      ]
     },
     "metadata": {},
     "output_type": "display_data"
    },
    {
     "name": "stdout",
     "output_type": "stream",
     "text": [
      "box_office\n",
      "Flop        3.581653e+07\n",
      "Hit         5.136035e+07\n",
      "Mega-hit    1.937741e+07\n",
      "Name: budget_adj, dtype: float64\n"
     ]
    },
    {
     "data": {
      "image/png": "[encoded data removed]",
      "text/plain": [
       "<matplotlib.figure.Figure at 0x118cde240>"
      ]
     },
     "metadata": {},
     "output_type": "display_data"
    },
    {
     "name": "stdout",
     "output_type": "stream",
     "text": [
      "box_office\n",
      "Flop        1.857187e+07\n",
      "Hit         1.627070e+08\n",
      "Mega-hit    3.634733e+08\n",
      "Name: revenue_adj, dtype: float64\n"
     ]
    }
   ],
   "source": [
    "budget_data = tmdb_movies.groupby(by='box_office')['budget_adj'].mean()\n",
    "budget_std = budget_data.std()\n",
    "budget_graph = budget_data.plot.bar(y='mean', yerr=budget_std)\n",
    "\n",
    "plt.title('Budget grouped by ROI category')\n",
    "plt.ylabel('Budget, in dollars')\n",
    "plt.show()\n",
    "print(budget_data)\n",
    "\n",
    "revenue_data = tmdb_movies.groupby(by='box_office')['revenue_adj'].mean()\n",
    "revenue_std = revenue_data.std()\n",
    "revenue_graph = revenue_data.plot.bar(y='mean', yerr=revenue_std)\n",
    "\n",
    "plt.title('Revenue grouped by ROI category')\n",
    "plt.ylabel('Revenue, in dollars')\n",
    "plt.show()\n",
    "print(revenue_data)"
   ]
  },
  {
   "cell_type": "markdown",
   "metadata": {},
   "source": [
    "In the graphs above, the budgets and revenues of each box office category were compared to each other. Although the proper statistical analysis has not been performed, the data suggests that, unsurprisingly, movies with higher ROI had higher revenues. Interestingly, movies in the megahit category seem to have smaller budgets than the other categories. "
   ]
  },
  {
   "cell_type": "markdown",
   "metadata": {},
   "source": [
    "<a id='conclusions'></a>\n",
    "## Conclusions\n",
    "\n",
    "The data from the TMDb dataset suggests a few interesting conclusions. Although a full statistical analysis would give more information, this limited analysis suggests that there is not really a clear relationship between a film's budget and potential revenues. The histogram of the ROI data skews right, suggesting that the higher the ROI, the less likely it is to occur. Finally, the graphs of the films grouped by genre and the graphs of the budgets by category suggest that the highest ROI as a film maker is likely to occur by producing a low budget horror film that becomes widely successful. \n",
    "\n",
    "There are a couple of limitations for the data set. First, the data does not extend to films produced before 1960. It would be interesting to see trends in Hollywood over different eras of filmmaking. Additionally, The data suggests that low budget horror movies that gain a wide distribution are the ones most likely to have the best return on investment, but the data set probably does not provide information on independent films or films that don't gain a wide release, particularly for films before the 1980's. Therefore, it is hard to make conclusions on the likelihood of a low budget megahit (because the data may not be complete for similar low budget films). \n",
    "\n",
    "In the future, it would be interesting to explore a statistical model of risk assessment for producing films. For example, what is the probability of a movie at least breaking even financially (a hit, in this analysis), given a certain budget? This information could be useful for movies studios and producers choosing projects and budgets."
   ]
  },
  {
   "cell_type": "code",
   "execution_count": 27,
   "metadata": {},
   "outputs": [
    {
     "data": {
      "text/plain": [
       "0"
      ]
     },
     "execution_count": 27,
     "metadata": {},
     "output_type": "execute_result"
    }
   ],
   "source": [
    "from subprocess import call\n",
    "call(['python', '-m', 'nbconvert', 'TMDb_project.ipynb'])"
   ]
  },
  {
   "cell_type": "code",
   "execution_count": null,
   "metadata": {
    "collapsed": true
   },
   "outputs": [],
   "source": []
  }
 ],
 "metadata": {
  "kernelspec": {
   "display_name": "Python 3",
   "language": "python",
   "name": "python3"
  },
  "language_info": {
   "codemirror_mode": {
    "name": "ipython",
    "version": 3
   },
   "file_extension": ".py",
   "mimetype": "text/x-python",
   "name": "python",
   "nbconvert_exporter": "python",
   "pygments_lexer": "ipython3",
   "version": "3.6.1"
  }
 },
 "nbformat": 4,
 "nbformat_minor": 2
}
